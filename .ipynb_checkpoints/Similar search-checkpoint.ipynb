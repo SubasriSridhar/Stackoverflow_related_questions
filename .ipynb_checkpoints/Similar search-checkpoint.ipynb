{
 "cells": [
  {
   "cell_type": "code",
   "execution_count": null,
   "metadata": {
    "colab": {},
    "colab_type": "code",
    "id": "EKucL4U-I-BF"
   },
   "outputs": [],
   "source": [
    "import pandas as pd\n",
    "import numpy as np\n",
    "import os\n",
    "df=pd.read_csv('/content/drive/My Drive/Colab Notebooks/File/preprocessed_df.csv')"
   ]
  },
  {
   "cell_type": "code",
   "execution_count": null,
   "metadata": {
    "colab": {
     "base_uri": "https://localhost:8080/",
     "height": 34
    },
    "colab_type": "code",
    "id": "Xr2f7Zp3J8pd",
    "outputId": "2fc5e764-afac-4755-bbf3-cffd987c3644"
   },
   "outputs": [
    {
     "name": "stdout",
     "output_type": "stream",
     "text": [
      "Drive already mounted at /content/drive; to attempt to forcibly remount, call drive.mount(\"/content/drive\", force_remount=True).\n"
     ]
    }
   ],
   "source": [
    "from google.colab import drive\n",
    "drive.mount('/content/drive')"
   ]
  },
  {
   "cell_type": "code",
   "execution_count": null,
   "metadata": {
    "colab": {
     "base_uri": "https://localhost:8080/",
     "height": 1000
    },
    "colab_type": "code",
    "id": "re8j1VVsI-BV",
    "outputId": "e884a01d-251e-48ec-db0d-0cfdb32de5f3",
    "scrolled": false
   },
   "outputs": [
    {
     "data": {
      "text/html": [
       "<div>\n",
       "<style scoped>\n",
       "    .dataframe tbody tr th:only-of-type {\n",
       "        vertical-align: middle;\n",
       "    }\n",
       "\n",
       "    .dataframe tbody tr th {\n",
       "        vertical-align: top;\n",
       "    }\n",
       "\n",
       "    .dataframe thead th {\n",
       "        text-align: right;\n",
       "    }\n",
       "</style>\n",
       "<table border=\"1\" class=\"dataframe\">\n",
       "  <thead>\n",
       "    <tr style=\"text-align: right;\">\n",
       "      <th></th>\n",
       "      <th>Id</th>\n",
       "      <th>Title</th>\n",
       "      <th>Corpus</th>\n",
       "      <th>Original_question</th>\n",
       "      <th>Original_answer</th>\n",
       "      <th>Questions_cleaned</th>\n",
       "      <th>Answers_cleaned</th>\n",
       "      <th>Tags</th>\n",
       "      <th>Total_scores</th>\n",
       "      <th>URL_list_questions</th>\n",
       "      <th>URL_list_ans</th>\n",
       "      <th>sentiment_polarity</th>\n",
       "      <th>sentiment_subjectivity</th>\n",
       "    </tr>\n",
       "  </thead>\n",
       "  <tbody>\n",
       "    <tr>\n",
       "      <th>0</th>\n",
       "      <td>5966</td>\n",
       "      <td>best abstract data</td>\n",
       "      <td>best abstract data basically written wwwthetvd...</td>\n",
       "      <td>&lt;p&gt;Basically, I've written an API to www.thetv...</td>\n",
       "      <td>&lt;p&gt;I don't get this part here:&lt;/p&gt;\\n\\n&lt;blockqu...</td>\n",
       "      <td>basically written wwwthetvdbcom python current...</td>\n",
       "      <td>basically written wwwthetvdbcom python current...</td>\n",
       "      <td>python|data-structures</td>\n",
       "      <td>0.000557</td>\n",
       "      <td>['http://github.com/dbr/tvdb_api/tree/master/t...</td>\n",
       "      <td>['http://docs.python.org/lib/module-sqlite3.ht...</td>\n",
       "      <td>0.234314</td>\n",
       "      <td>0.598529</td>\n",
       "    </tr>\n",
       "    <tr>\n",
       "      <th>1</th>\n",
       "      <td>15139</td>\n",
       "      <td>building standalone applications javascript</td>\n",
       "      <td>building standalone applications javascript in...</td>\n",
       "      <td>&lt;p&gt;With the increased power of JavaScript fram...</td>\n",
       "      <td>&lt;p&gt;I'm with ScottKoon here, Adobe AIR is great...</td>\n",
       "      <td>increased power javascript frameworks like jqu...</td>\n",
       "      <td>increased power javascript frameworks like jqu...</td>\n",
       "      <td>javascript|deployment|web-applications|browser</td>\n",
       "      <td>0.005081</td>\n",
       "      <td>[]</td>\n",
       "      <td>['http://downloadify.info', 'http://github.com...</td>\n",
       "      <td>0.296179</td>\n",
       "      <td>0.614218</td>\n",
       "    </tr>\n",
       "    <tr>\n",
       "      <th>2</th>\n",
       "      <td>20003</td>\n",
       "      <td>repository layout large maven projects</td>\n",
       "      <td>repository layout large maven projects large a...</td>\n",
       "      <td>&lt;p&gt;I have a large application (~50 modules) us...</td>\n",
       "      <td>&lt;p&gt;I think you're better off flattening your d...</td>\n",
       "      <td>large application modules structure similar fo...</td>\n",
       "      <td>large application modules structure similar fo...</td>\n",
       "      <td>java|svn|maven-2</td>\n",
       "      <td>0.001914</td>\n",
       "      <td>[]</td>\n",
       "      <td>['https://stackoverflow.com/questions/16829/st...</td>\n",
       "      <td>0.198214</td>\n",
       "      <td>0.525595</td>\n",
       "    </tr>\n",
       "    <tr>\n",
       "      <th>3</th>\n",
       "      <td>37628</td>\n",
       "      <td>reflection useful</td>\n",
       "      <td>reflection useful reflection useful particular...</td>\n",
       "      <td>&lt;p&gt;What is reflection, and why is it useful?&lt;/...</td>\n",
       "      <td>&lt;p&gt;&lt;code&gt;Reflection&lt;/code&gt; has many &lt;strong&gt;us...</td>\n",
       "      <td>reflection useful particularly interested java...</td>\n",
       "      <td>reflection useful particularly interested java...</td>\n",
       "      <td>java|reflection|terminology</td>\n",
       "      <td>0.367415</td>\n",
       "      <td>[]</td>\n",
       "      <td>['http://en.wikipedia.org/wiki/Java_API_for_XM...</td>\n",
       "      <td>0.109639</td>\n",
       "      <td>0.486383</td>\n",
       "    </tr>\n",
       "    <tr>\n",
       "      <th>4</th>\n",
       "      <td>48239</td>\n",
       "      <td>getting element fired event</td>\n",
       "      <td>getting element fired event element fires even...</td>\n",
       "      <td>&lt;p&gt;Is there any way to get the ID of the eleme...</td>\n",
       "      <td>&lt;p&gt;In the case of delegated event handlers, wh...</td>\n",
       "      <td>element fires event thinking like course conta...</td>\n",
       "      <td>element fires event thinking like course conta...</td>\n",
       "      <td>javascript|jquery</td>\n",
       "      <td>0.271365</td>\n",
       "      <td>[]</td>\n",
       "      <td>['http://api.jquery.com/category/events/event-...</td>\n",
       "      <td>0.043864</td>\n",
       "      <td>0.487912</td>\n",
       "    </tr>\n",
       "    <tr>\n",
       "      <th>5</th>\n",
       "      <td>59719</td>\n",
       "      <td>check ispostback javascript</td>\n",
       "      <td>check ispostback javascript need javascript fu...</td>\n",
       "      <td>&lt;p&gt;I need to run a JavaScript function onLoad(...</td>\n",
       "      <td>&lt;p&gt;The solution didn't work for me, I had to a...</td>\n",
       "      <td>need javascript function onload page loaded ti...</td>\n",
       "      <td>need javascript function onload page loaded ti...</td>\n",
       "      <td>asp.net|javascript</td>\n",
       "      <td>0.016239</td>\n",
       "      <td>[]</td>\n",
       "      <td>[]</td>\n",
       "      <td>0.070961</td>\n",
       "      <td>0.343849</td>\n",
       "    </tr>\n",
       "    <tr>\n",
       "      <th>6</th>\n",
       "      <td>61692</td>\n",
       "      <td>java application shutdown nicely windows</td>\n",
       "      <td>java application shutdown nicely windows java ...</td>\n",
       "      <td>&lt;p&gt;I have a Java application which I want to s...</td>\n",
       "      <td>&lt;p&gt;As far as I know you need to start using JN...</td>\n",
       "      <td>java application want shutdown nicely user sel...</td>\n",
       "      <td>java application want shutdown nicely user sel...</td>\n",
       "      <td>java|windows|shutdown</td>\n",
       "      <td>0.000406</td>\n",
       "      <td>[]</td>\n",
       "      <td>['http://msdn.microsoft.com/en-us/library/aa37...</td>\n",
       "      <td>-0.029167</td>\n",
       "      <td>0.441667</td>\n",
       "    </tr>\n",
       "    <tr>\n",
       "      <th>7</th>\n",
       "      <td>65128</td>\n",
       "      <td>track file handle</td>\n",
       "      <td>track file handle huge uses single config file...</td>\n",
       "      <td>&lt;p&gt;I have a huge ear that uses log4j and there...</td>\n",
       "      <td>&lt;p&gt;Formally SysInternal's, now Microsoft's Pro...</td>\n",
       "      <td>huge uses single config file config file menti...</td>\n",
       "      <td>huge uses single config file config file menti...</td>\n",
       "      <td>java|logging|file|jakarta-ee|websphere</td>\n",
       "      <td>0.000105</td>\n",
       "      <td>[]</td>\n",
       "      <td>['http://technet.microsoft.com/en-us/sysintern...</td>\n",
       "      <td>0.130000</td>\n",
       "      <td>0.325000</td>\n",
       "    </tr>\n",
       "    <tr>\n",
       "      <th>8</th>\n",
       "      <td>66505</td>\n",
       "      <td>handle static fields vary implementing class</td>\n",
       "      <td>handle static fields vary implementing class p...</td>\n",
       "      <td>&lt;p&gt;I hit this problem all the time. Suppose I ...</td>\n",
       "      <td>&lt;p&gt;You may consider to use attributes instead ...</td>\n",
       "      <td>problem time suppose making command line inter...</td>\n",
       "      <td>problem time suppose making command line inter...</td>\n",
       "      <td>c#|java</td>\n",
       "      <td>0.000256</td>\n",
       "      <td>[]</td>\n",
       "      <td>['https://stackoverflow.com/questions/66505/ho...</td>\n",
       "      <td>-0.084215</td>\n",
       "      <td>0.667460</td>\n",
       "    </tr>\n",
       "    <tr>\n",
       "      <th>9</th>\n",
       "      <td>72945</td>\n",
       "      <td>create triplejoin table django</td>\n",
       "      <td>create triplejoin table django django built mo...</td>\n",
       "      <td>&lt;p&gt;Using Django's built in models, how would o...</td>\n",
       "      <td>&lt;p&gt;I'd recommend just creating an entirely sep...</td>\n",
       "      <td>django built models create triplejoin models e...</td>\n",
       "      <td>django built models create triplejoin models e...</td>\n",
       "      <td>python|django|model-view-controller|model</td>\n",
       "      <td>0.000859</td>\n",
       "      <td>[]</td>\n",
       "      <td>['http://docs.djangoproject.com/en/dev/topics/...</td>\n",
       "      <td>-0.085000</td>\n",
       "      <td>0.220833</td>\n",
       "    </tr>\n",
       "    <tr>\n",
       "      <th>10</th>\n",
       "      <td>74960</td>\n",
       "      <td>namespace reference soap response apache axis ...</td>\n",
       "      <td>namespace reference soap response apache axis ...</td>\n",
       "      <td>&lt;p&gt;I'm looking at the SOAP output from a web s...</td>\n",
       "      <td>&lt;p&gt;Other option is that the variable MY_QNAME ...</td>\n",
       "      <td>looking soap output service developing noticed...</td>\n",
       "      <td>looking soap output service developing noticed...</td>\n",
       "      <td>java|soap|namespaces|axis2|wsdl2java</td>\n",
       "      <td>0.000406</td>\n",
       "      <td>['http://www.w3.org/2003/05/soap-envelope', 'h...</td>\n",
       "      <td>['http://www.hello.com/Service/', 'http://temp...</td>\n",
       "      <td>0.550000</td>\n",
       "      <td>0.762500</td>\n",
       "    </tr>\n",
       "    <tr>\n",
       "      <th>11</th>\n",
       "      <td>77686</td>\n",
       "      <td>java applet partially signed</td>\n",
       "      <td>java applet partially signed possible sign app...</td>\n",
       "      <td>&lt;p&gt;Is it possible to sign only part of an appl...</td>\n",
       "      <td>&lt;p&gt;I've been given the impression that Sun wan...</td>\n",
       "      <td>possible sign applet applet pops security warn...</td>\n",
       "      <td>possible sign applet applet pops security warn...</td>\n",
       "      <td>java|security|applet|signed-applet</td>\n",
       "      <td>-0.000649</td>\n",
       "      <td>[]</td>\n",
       "      <td>['http://java.sun.com/j2se/1.5.0/docs/guide/ja...</td>\n",
       "      <td>0.000000</td>\n",
       "      <td>0.466667</td>\n",
       "    </tr>\n",
       "    <tr>\n",
       "      <th>12</th>\n",
       "      <td>78703</td>\n",
       "      <td>javascript framework calendar plugin</td>\n",
       "      <td>javascript framework calendar plugin know good...</td>\n",
       "      <td>&lt;p&gt;Does any know of a good calendar (not datep...</td>\n",
       "      <td>&lt;p&gt;Here is one I put together. It looks and wo...</td>\n",
       "      <td>know good calendar datepicker browsable calend...</td>\n",
       "      <td>know good calendar datepicker browsable calend...</td>\n",
       "      <td>javascript|jquery|calendar</td>\n",
       "      <td>0.010509</td>\n",
       "      <td>[]</td>\n",
       "      <td>['http://code.google.com/p/jquery-frontier-cal...</td>\n",
       "      <td>0.276190</td>\n",
       "      <td>0.440079</td>\n",
       "    </tr>\n",
       "    <tr>\n",
       "      <th>13</th>\n",
       "      <td>87373</td>\n",
       "      <td>javascript library photo album</td>\n",
       "      <td>javascript library photo album visited sites p...</td>\n",
       "      <td>&lt;p&gt;I visited few web sites in the past where t...</td>\n",
       "      <td>&lt;p&gt;Lightbox is another popular one:\\n&lt;a href=\"...</td>\n",
       "      <td>visited sites past photo thumbnails clicking c...</td>\n",
       "      <td>visited sites past photo thumbnails clicking c...</td>\n",
       "      <td>javascript</td>\n",
       "      <td>-0.000046</td>\n",
       "      <td>[]</td>\n",
       "      <td>['http://www.lokeshdhakar.com/projects/lightbo...</td>\n",
       "      <td>0.600000</td>\n",
       "      <td>0.900000</td>\n",
       "    </tr>\n",
       "    <tr>\n",
       "      <th>14</th>\n",
       "      <td>88743</td>\n",
       "      <td>jmockit expectations matchers primitive types</td>\n",
       "      <td>jmockit expectations matchers primitive types ...</td>\n",
       "      <td>&lt;p&gt;I'm using jmockit for unit testing (with Te...</td>\n",
       "      <td>&lt;p&gt;the issue is the combination of Expectation...</td>\n",
       "      <td>jmockit unit testing testng having trouble exp...</td>\n",
       "      <td>jmockit unit testing testng having trouble exp...</td>\n",
       "      <td>java|unit-testing|mocking|jmockit</td>\n",
       "      <td>-0.000347</td>\n",
       "      <td>[]</td>\n",
       "      <td>[]</td>\n",
       "      <td>-0.009722</td>\n",
       "      <td>0.401389</td>\n",
       "    </tr>\n",
       "  </tbody>\n",
       "</table>\n",
       "</div>"
      ],
      "text/plain": [
       "       Id  ... sentiment_subjectivity\n",
       "0    5966  ...               0.598529\n",
       "1   15139  ...               0.614218\n",
       "2   20003  ...               0.525595\n",
       "3   37628  ...               0.486383\n",
       "4   48239  ...               0.487912\n",
       "5   59719  ...               0.343849\n",
       "6   61692  ...               0.441667\n",
       "7   65128  ...               0.325000\n",
       "8   66505  ...               0.667460\n",
       "9   72945  ...               0.220833\n",
       "10  74960  ...               0.762500\n",
       "11  77686  ...               0.466667\n",
       "12  78703  ...               0.440079\n",
       "13  87373  ...               0.900000\n",
       "14  88743  ...               0.401389\n",
       "\n",
       "[15 rows x 13 columns]"
      ]
     },
     "execution_count": 3,
     "metadata": {
      "tags": []
     },
     "output_type": "execute_result"
    }
   ],
   "source": [
    "del df['Unnamed: 0']\n",
    "df.head(15)"
   ]
  },
  {
   "cell_type": "code",
   "execution_count": null,
   "metadata": {
    "colab": {
     "base_uri": "https://localhost:8080/",
     "height": 369
    },
    "colab_type": "code",
    "id": "o7s_tS_6I-Bg",
    "outputId": "c30170c1-345e-47a9-fd22-ff63bd96e43b"
   },
   "outputs": [
    {
     "name": "stdout",
     "output_type": "stream",
     "text": [
      "<class 'pandas.core.frame.DataFrame'>\n",
      "RangeIndex: 55139 entries, 0 to 55138\n",
      "Data columns (total 13 columns):\n",
      " #   Column                  Non-Null Count  Dtype  \n",
      "---  ------                  --------------  -----  \n",
      " 0   Id                      55139 non-null  int64  \n",
      " 1   Title                   55044 non-null  object \n",
      " 2   Corpus                  55139 non-null  object \n",
      " 3   Original_question       55139 non-null  object \n",
      " 4   Original_answer         55139 non-null  object \n",
      " 5   Questions_cleaned       55078 non-null  object \n",
      " 6   Answers_cleaned         55078 non-null  object \n",
      " 7   Tags                    55139 non-null  object \n",
      " 8   Total_scores            55139 non-null  float64\n",
      " 9   URL_list_questions      55139 non-null  object \n",
      " 10  URL_list_ans            55139 non-null  object \n",
      " 11  sentiment_polarity      55139 non-null  float64\n",
      " 12  sentiment_subjectivity  55139 non-null  float64\n",
      "dtypes: float64(3), int64(1), object(9)\n",
      "memory usage: 5.5+ MB\n"
     ]
    }
   ],
   "source": [
    "df.info()"
   ]
  },
  {
   "cell_type": "code",
   "execution_count": null,
   "metadata": {
    "colab": {},
    "colab_type": "code",
    "id": "A2jiK65K9pmo"
   },
   "outputs": [],
   "source": [
    "# df = df[pd.notnull(df['Title'])]\n",
    "df = df.reset_index(drop=True)"
   ]
  },
  {
   "cell_type": "code",
   "execution_count": null,
   "metadata": {
    "colab": {
     "base_uri": "https://localhost:8080/",
     "height": 72
    },
    "colab_type": "code",
    "id": "J2xNwZCnI-Bm",
    "outputId": "e50538d8-12a4-4199-c4eb-ab04cba76173"
   },
   "outputs": [
    {
     "name": "stderr",
     "output_type": "stream",
     "text": [
      "/usr/local/lib/python3.6/dist-packages/smart_open/smart_open_lib.py:254: UserWarning: This function is deprecated, use smart_open.open instead. See the migration notes for details: https://github.com/RaRe-Technologies/smart_open/blob/master/README.rst#migrating-to-the-new-open-function\n",
      "  'See the migration notes for details: %s' % _MIGRATION_NOTES_URL\n"
     ]
    }
   ],
   "source": [
    "import gensim\n",
    "import os\n",
    "w2v_model = gensim.models.word2vec.Word2Vec.load('/content/drive/My Drive/Colab Notebooks/SO_word2vec_embeddings.bin')"
   ]
  },
  {
   "cell_type": "code",
   "execution_count": null,
   "metadata": {
    "colab": {},
    "colab_type": "code",
    "id": "ON5Cu0pcI-Br",
    "scrolled": true
   },
   "outputs": [],
   "source": [
    "df = df[pd.notnull(df['Title'])]\n"
   ]
  },
  {
   "cell_type": "code",
   "execution_count": null,
   "metadata": {
    "colab": {
     "base_uri": "https://localhost:8080/",
     "height": 72
    },
    "colab_type": "code",
    "id": "Ad78EJgLI-Bw",
    "outputId": "ff94fd82-9e5f-43a6-f8df-99a97966b9e6",
    "scrolled": true
   },
   "outputs": [
    {
     "name": "stdout",
     "output_type": "stream",
     "text": [
      "12    <p>Does any know of a good calendar (not datepicker, but a BIG browsable calendar) plugin for one of the major javascript frameworks.  I'd prefer jQuery.</p>\n",
      "Name: Original_question, dtype: object\n"
     ]
    }
   ],
   "source": [
    "with pd.option_context('display.max_colwidth', None):\n",
    "    print(df.Original_question[df.index==12])"
   ]
  },
  {
   "cell_type": "markdown",
   "metadata": {},
   "source": [
    "This function averages the the embeddings for each valid token"
   ]
  },
  {
   "cell_type": "code",
   "execution_count": null,
   "metadata": {
    "colab": {},
    "colab_type": "code",
    "id": "9BU_kEH5I-B2"
   },
   "outputs": [],
   "source": [
    "def question_to_vec(question, embeddings, dim=300):\n",
    "    question_embedding = np.zeros(dim)\n",
    "    valid_words = 0\n",
    "    for word in question.split(' '):\n",
    "        if word in embeddings:\n",
    "            valid_words += 1\n",
    "            question_embedding += embeddings[word]\n",
    "    if valid_words > 0:\n",
    "        return question_embedding/valid_words\n",
    "    else:\n",
    "        return question_embedding"
   ]
  },
  {
   "cell_type": "code",
   "execution_count": null,
   "metadata": {
    "colab": {
     "base_uri": "https://localhost:8080/",
     "height": 107
    },
    "colab_type": "code",
    "id": "oQiysLhZI-B7",
    "outputId": "29abe2a8-cf7f-411a-e81a-c591adfaf4d4",
    "scrolled": true
   },
   "outputs": [
    {
     "name": "stderr",
     "output_type": "stream",
     "text": [
      "/usr/local/lib/python3.6/dist-packages/ipykernel_launcher.py:5: DeprecationWarning: Call to deprecated `__contains__` (Method will be removed in 4.0.0, use self.wv.__contains__() instead).\n",
      "  \"\"\"\n",
      "/usr/local/lib/python3.6/dist-packages/ipykernel_launcher.py:7: DeprecationWarning: Call to deprecated `__getitem__` (Method will be removed in 4.0.0, use self.wv.__getitem__() instead).\n",
      "  import sys\n"
     ]
    }
   ],
   "source": [
    "all_title_embeddings = []\n",
    "for title in df.Title:\n",
    "    all_title_embeddings.append(question_to_vec(title, w2v_model))\n",
    "all_title_embeddings = np.array(all_title_embeddings)\n",
    "\n",
    "\n",
    "embeddings = pd.DataFrame(data = all_title_embeddings)\n",
    "embeddings.to_csv('title_embeddings.csv', index=False)"
   ]
  },
  {
   "cell_type": "code",
   "execution_count": null,
   "metadata": {
    "colab": {},
    "colab_type": "code",
    "id": "-_IAG30iI-B-"
   },
   "outputs": [],
   "source": [
    "all_title_embeddings = pd.read_csv('title_embeddings.csv').values"
   ]
  },
  {
   "cell_type": "code",
   "execution_count": null,
   "metadata": {
    "colab": {},
    "colab_type": "code",
    "id": "mneVVZbPI-CB"
   },
   "outputs": [],
   "source": [
    "import keras.backend as K\n",
    "\n",
    "# Custom loss function to handle multilabel classification task\n",
    "def multitask_loss(y_true, y_pred):\n",
    "    # Avoid divide by 0\n",
    "    y_pred = K.clip(y_pred, K.epsilon(), 1 - K.epsilon())\n",
    "    # Multi-task loss\n",
    "    return K.mean(K.sum(- y_true * K.log(y_pred) - (1 - y_true) * K.log(1 - y_pred), axis=1))"
   ]
  },
  {
   "cell_type": "code",
   "execution_count": null,
   "metadata": {
    "colab": {},
    "colab_type": "code",
    "id": "yWfxYZ9GI-CE"
   },
   "outputs": [],
   "source": [
    "df.Tags = df.Tags.apply(lambda x: x.split('|'))\n",
    "tag_freq_dict = {}\n",
    "for tags in df.Tags:\n",
    "    for tag in tags:\n",
    "        if tag not in tag_freq_dict:\n",
    "            tag_freq_dict[tag] = 0\n",
    "        else:\n",
    "            tag_freq_dict[tag] += 1\n",
    "tags_to_use = 500\n",
    "tag_freq_dict_sorted = dict(sorted(tag_freq_dict.items(), key=lambda x: x[1], reverse=True))\n",
    "final_tags = list(tag_freq_dict_sorted.keys())[:tags_to_use]\n",
    "len(final_tags)\n",
    "\n",
    "final_tag_data = []\n",
    "for tags in df.Tags:\n",
    "    temp = []\n",
    "    for tag in tags:\n",
    "        if tag in final_tags:\n",
    "            temp.append(tag)\n",
    "    final_tag_data.append(temp)"
   ]
  },
  {
   "cell_type": "code",
   "execution_count": null,
   "metadata": {
    "colab": {
     "base_uri": "https://localhost:8080/",
     "height": 34
    },
    "colab_type": "code",
    "id": "ZRVsZZ2DI-CH",
    "outputId": "064b1e53-f321-4fc1-d762-8e0ed72da221"
   },
   "outputs": [
    {
     "data": {
      "text/plain": [
       "(55044, 500)"
      ]
     },
     "execution_count": 14,
     "metadata": {
      "tags": []
     },
     "output_type": "execute_result"
    }
   ],
   "source": [
    "from sklearn.preprocessing import MultiLabelBinarizer\n",
    "tag_encoder = MultiLabelBinarizer()\n",
    "tags_encoded = tag_encoder.fit_transform(final_tag_data)\n",
    "tags_encoded.shape"
   ]
  },
  {
   "cell_type": "code",
   "execution_count": null,
   "metadata": {
    "colab": {
     "base_uri": "https://localhost:8080/",
     "height": 34
    },
    "colab_type": "code",
    "id": "BrU-ufAaI-CK",
    "outputId": "fac89719-2d52-48af-8e15-95b92f65b483"
   },
   "outputs": [
    {
     "data": {
      "text/plain": [
       "(55044,)"
      ]
     },
     "execution_count": 15,
     "metadata": {
      "tags": []
     },
     "output_type": "execute_result"
    }
   ],
   "source": [
    "df.Title.shape"
   ]
  },
  {
   "cell_type": "code",
   "execution_count": null,
   "metadata": {
    "colab": {
     "base_uri": "https://localhost:8080/",
     "height": 34
    },
    "colab_type": "code",
    "id": "QniM4e8oI-CN",
    "outputId": "806c7cb4-55bc-49fe-da4a-71d0e2bfdef3"
   },
   "outputs": [
    {
     "data": {
      "text/plain": [
       "(55044, 500)"
      ]
     },
     "execution_count": 16,
     "metadata": {
      "tags": []
     },
     "output_type": "execute_result"
    }
   ],
   "source": [
    "tags_encoded.shape"
   ]
  },
  {
   "cell_type": "code",
   "execution_count": null,
   "metadata": {
    "colab": {
     "base_uri": "https://localhost:8080/",
     "height": 228
    },
    "colab_type": "code",
    "id": "MRHu3GkrRkEX",
    "outputId": "295cf541-bfcd-4411-8fce-b3b58a267496"
   },
   "outputs": [
    {
     "data": {
      "text/plain": [
       "0                                 best abstract data\n",
       "1        building standalone applications javascript\n",
       "2             repository layout large maven projects\n",
       "3                                  reflection useful\n",
       "4                        getting element fired event\n",
       "                            ...                     \n",
       "55134       search menu navigate searched menu menus\n",
       "55135                     data access database error\n",
       "55136                                         cookie\n",
       "55137               pull response said response json\n",
       "55138      typeerror argument type iterable indexing\n",
       "Name: Title, Length: 55044, dtype: object"
      ]
     },
     "execution_count": 17,
     "metadata": {
      "tags": []
     },
     "output_type": "execute_result"
    }
   ],
   "source": [
    "df.Title"
   ]
  },
  {
   "cell_type": "code",
   "execution_count": null,
   "metadata": {
    "colab": {
     "base_uri": "https://localhost:8080/",
     "height": 52
    },
    "colab_type": "code",
    "id": "zxiMQhaFI-CQ",
    "outputId": "d17a2a6e-77e6-413a-d20e-604933637408"
   },
   "outputs": [
    {
     "name": "stdout",
     "output_type": "stream",
     "text": [
      "TRAIN size: 44035\n",
      "TEST size: 11009\n"
     ]
    }
   ],
   "source": [
    "# Split into train and test set\n",
    "from sklearn.model_selection import train_test_split\n",
    "X_train, X_test, y_train, y_test = train_test_split(np.array(df.Title), tags_encoded, test_size=0.2, random_state=42)\n",
    "print(\"TRAIN size:\", len(X_train))\n",
    "print(\"TEST size:\", len(X_test))"
   ]
  },
  {
   "cell_type": "code",
   "execution_count": null,
   "metadata": {
    "colab": {
     "base_uri": "https://localhost:8080/",
     "height": 568
    },
    "colab_type": "code",
    "id": "Iyypm-VW_kyO",
    "outputId": "c3e60e0c-cb22-41ad-eacb-4c44240e0006"
   },
   "outputs": [
    {
     "data": {
      "text/html": [
       "<div>\n",
       "<style scoped>\n",
       "    .dataframe tbody tr th:only-of-type {\n",
       "        vertical-align: middle;\n",
       "    }\n",
       "\n",
       "    .dataframe tbody tr th {\n",
       "        vertical-align: top;\n",
       "    }\n",
       "\n",
       "    .dataframe thead th {\n",
       "        text-align: right;\n",
       "    }\n",
       "</style>\n",
       "<table border=\"1\" class=\"dataframe\">\n",
       "  <thead>\n",
       "    <tr style=\"text-align: right;\">\n",
       "      <th></th>\n",
       "      <th>Id</th>\n",
       "      <th>Title</th>\n",
       "      <th>Corpus</th>\n",
       "      <th>Original_question</th>\n",
       "      <th>Original_answer</th>\n",
       "      <th>Questions_cleaned</th>\n",
       "      <th>Answers_cleaned</th>\n",
       "      <th>Tags</th>\n",
       "      <th>Total_scores</th>\n",
       "      <th>URL_list_questions</th>\n",
       "      <th>URL_list_ans</th>\n",
       "      <th>sentiment_polarity</th>\n",
       "      <th>sentiment_subjectivity</th>\n",
       "    </tr>\n",
       "  </thead>\n",
       "  <tbody>\n",
       "    <tr>\n",
       "      <th>0</th>\n",
       "      <td>5966</td>\n",
       "      <td>best abstract data</td>\n",
       "      <td>best abstract data basically written wwwthetvd...</td>\n",
       "      <td>&lt;p&gt;Basically, I've written an API to www.thetv...</td>\n",
       "      <td>&lt;p&gt;I don't get this part here:&lt;/p&gt;\\n\\n&lt;blockqu...</td>\n",
       "      <td>basically written wwwthetvdbcom python current...</td>\n",
       "      <td>basically written wwwthetvdbcom python current...</td>\n",
       "      <td>[python, data-structures]</td>\n",
       "      <td>0.000557</td>\n",
       "      <td>['http://github.com/dbr/tvdb_api/tree/master/t...</td>\n",
       "      <td>['http://docs.python.org/lib/module-sqlite3.ht...</td>\n",
       "      <td>0.234314</td>\n",
       "      <td>0.598529</td>\n",
       "    </tr>\n",
       "    <tr>\n",
       "      <th>1</th>\n",
       "      <td>15139</td>\n",
       "      <td>building standalone applications javascript</td>\n",
       "      <td>building standalone applications javascript in...</td>\n",
       "      <td>&lt;p&gt;With the increased power of JavaScript fram...</td>\n",
       "      <td>&lt;p&gt;I'm with ScottKoon here, Adobe AIR is great...</td>\n",
       "      <td>increased power javascript frameworks like jqu...</td>\n",
       "      <td>increased power javascript frameworks like jqu...</td>\n",
       "      <td>[javascript, deployment, web-applications, bro...</td>\n",
       "      <td>0.005081</td>\n",
       "      <td>[]</td>\n",
       "      <td>['http://downloadify.info', 'http://github.com...</td>\n",
       "      <td>0.296179</td>\n",
       "      <td>0.614218</td>\n",
       "    </tr>\n",
       "    <tr>\n",
       "      <th>2</th>\n",
       "      <td>20003</td>\n",
       "      <td>repository layout large maven projects</td>\n",
       "      <td>repository layout large maven projects large a...</td>\n",
       "      <td>&lt;p&gt;I have a large application (~50 modules) us...</td>\n",
       "      <td>&lt;p&gt;I think you're better off flattening your d...</td>\n",
       "      <td>large application modules structure similar fo...</td>\n",
       "      <td>large application modules structure similar fo...</td>\n",
       "      <td>[java, svn, maven-2]</td>\n",
       "      <td>0.001914</td>\n",
       "      <td>[]</td>\n",
       "      <td>['https://stackoverflow.com/questions/16829/st...</td>\n",
       "      <td>0.198214</td>\n",
       "      <td>0.525595</td>\n",
       "    </tr>\n",
       "    <tr>\n",
       "      <th>3</th>\n",
       "      <td>37628</td>\n",
       "      <td>reflection useful</td>\n",
       "      <td>reflection useful reflection useful particular...</td>\n",
       "      <td>&lt;p&gt;What is reflection, and why is it useful?&lt;/...</td>\n",
       "      <td>&lt;p&gt;&lt;code&gt;Reflection&lt;/code&gt; has many &lt;strong&gt;us...</td>\n",
       "      <td>reflection useful particularly interested java...</td>\n",
       "      <td>reflection useful particularly interested java...</td>\n",
       "      <td>[java, reflection, terminology]</td>\n",
       "      <td>0.367415</td>\n",
       "      <td>[]</td>\n",
       "      <td>['http://en.wikipedia.org/wiki/Java_API_for_XM...</td>\n",
       "      <td>0.109639</td>\n",
       "      <td>0.486383</td>\n",
       "    </tr>\n",
       "    <tr>\n",
       "      <th>4</th>\n",
       "      <td>48239</td>\n",
       "      <td>getting element fired event</td>\n",
       "      <td>getting element fired event element fires even...</td>\n",
       "      <td>&lt;p&gt;Is there any way to get the ID of the eleme...</td>\n",
       "      <td>&lt;p&gt;In the case of delegated event handlers, wh...</td>\n",
       "      <td>element fires event thinking like course conta...</td>\n",
       "      <td>element fires event thinking like course conta...</td>\n",
       "      <td>[javascript, jquery]</td>\n",
       "      <td>0.271365</td>\n",
       "      <td>[]</td>\n",
       "      <td>['http://api.jquery.com/category/events/event-...</td>\n",
       "      <td>0.043864</td>\n",
       "      <td>0.487912</td>\n",
       "    </tr>\n",
       "  </tbody>\n",
       "</table>\n",
       "</div>"
      ],
      "text/plain": [
       "      Id  ... sentiment_subjectivity\n",
       "0   5966  ...               0.598529\n",
       "1  15139  ...               0.614218\n",
       "2  20003  ...               0.525595\n",
       "3  37628  ...               0.486383\n",
       "4  48239  ...               0.487912\n",
       "\n",
       "[5 rows x 13 columns]"
      ]
     },
     "execution_count": 19,
     "metadata": {
      "tags": []
     },
     "output_type": "execute_result"
    }
   ],
   "source": [
    "df.head()"
   ]
  },
  {
   "cell_type": "code",
   "execution_count": null,
   "metadata": {
    "colab": {
     "base_uri": "https://localhost:8080/",
     "height": 34
    },
    "colab_type": "code",
    "id": "6Ot6o5e9I-CT",
    "outputId": "8a8f1650-dd86-4306-d1bd-88cf00497c1b"
   },
   "outputs": [
    {
     "name": "stdout",
     "output_type": "stream",
     "text": [
      "Found 110833 unique tokens.\n"
     ]
    }
   ],
   "source": [
    "from keras.preprocessing.text import Tokenizer\n",
    "from keras.preprocessing.sequence import pad_sequences\n",
    "from keras.models import Sequential\n",
    "from keras.layers import Dense, Embedding, LSTM, Dropout\n",
    "from keras import utils\n",
    "\n",
    "# Max number of words in each complaint.\n",
    "MAX_SEQUENCE_LENGTH = 300\n",
    "# This is fixed.\n",
    "EMBEDDING_DIM = 300\n",
    "\n",
    "tokenizer = Tokenizer()\n",
    "tokenizer.fit_on_texts(df.Corpus)\n",
    "word_index = tokenizer.word_index\n",
    "vocab_size = len(word_index)\n",
    "print('Found %s unique tokens.' % len(word_index))\n",
    "\n",
    "# saving\n",
    "import pickle\n",
    "with open('tokenizer.pickle', 'wb') as handle:\n",
    "    pickle.dump(tokenizer, handle, protocol=pickle.HIGHEST_PROTOCOL)\n"
   ]
  },
  {
   "cell_type": "code",
   "execution_count": null,
   "metadata": {
    "colab": {
     "base_uri": "https://localhost:8080/",
     "height": 34
    },
    "colab_type": "code",
    "id": "fgQaU4_KI-CW",
    "outputId": "0b8e50d6-bffb-491c-e7b9-88b257301753"
   },
   "outputs": [
    {
     "name": "stdout",
     "output_type": "stream",
     "text": [
      "Found 110833 unique tokens.\n"
     ]
    }
   ],
   "source": [
    "# loading tokenizer\n",
    "import pickle\n",
    "with open('tokenizer.pickle', 'rb') as handle:\n",
    "    tokenizer = pickle.load(handle)\n",
    "word_index = tokenizer.word_index\n",
    "vocab_size = len(word_index)\n",
    "print('Found %s unique tokens.' % len(word_index))"
   ]
  },
  {
   "cell_type": "code",
   "execution_count": null,
   "metadata": {
    "colab": {
     "base_uri": "https://localhost:8080/",
     "height": 34
    },
    "colab_type": "code",
    "id": "KdN8eweII-CZ",
    "outputId": "dccab49d-7850-4cae-c938-3adebb4c776d"
   },
   "outputs": [
    {
     "name": "stdout",
     "output_type": "stream",
     "text": [
      "Shape of data tensor: (44035, 300)\n"
     ]
    }
   ],
   "source": [
    "# Convert the data to padded sequences\n",
    "X_train_padded = tokenizer.texts_to_sequences(X_train)\n",
    "X_train_padded = pad_sequences(X_train_padded, maxlen=MAX_SEQUENCE_LENGTH)\n",
    "print('Shape of data tensor:', X_train_padded.shape)"
   ]
  },
  {
   "cell_type": "code",
   "execution_count": null,
   "metadata": {
    "colab": {},
    "colab_type": "code",
    "id": "TUJ_Gy7cI-Cd"
   },
   "outputs": [],
   "source": [
    "import numpy as np"
   ]
  },
  {
   "cell_type": "code",
   "execution_count": null,
   "metadata": {
    "colab": {},
    "colab_type": "code",
    "id": "JuyBpluZI-Cg"
   },
   "outputs": [],
   "source": [
    "# Word2Vec\n",
    "import gensim\n",
    "\n",
    "# WORD2VEC \n",
    "W2V_SIZE = 300\n",
    "W2V_WINDOW = 7\n",
    "W2V_EPOCH = 32\n",
    "W2V_MIN_COUNT = 10\n",
    "\n",
    "# Collect corpus for training word embeddings"
   ]
  },
  {
   "cell_type": "code",
   "execution_count": null,
   "metadata": {
    "colab": {
     "base_uri": "https://localhost:8080/",
     "height": 34
    },
    "colab_type": "code",
    "id": "fCxouUW7I-Ci",
    "outputId": "f289acd1-0349-4500-f9bc-63c1ff69a52c"
   },
   "outputs": [
    {
     "name": "stdout",
     "output_type": "stream",
     "text": [
      "(110834, 300)\n"
     ]
    }
   ],
   "source": [
    "# Embedding matrix for the embedding layer\n",
    "embedding_matrix = np.zeros((vocab_size+1, W2V_SIZE))\n",
    "for word, i in tokenizer.word_index.items():\n",
    "    if word in w2v_model.wv:\n",
    "        embedding_matrix[i] = w2v_model.wv[word]\n",
    "print(embedding_matrix.shape)"
   ]
  },
  {
   "cell_type": "code",
   "execution_count": null,
   "metadata": {
    "colab": {},
    "colab_type": "code",
    "id": "ybxsR0XOI-Cl"
   },
   "outputs": [],
   "source": [
    "import keras.backend as K\n",
    "\n",
    "# Custom loss function to handle multilabel classification task\n",
    "def multitask_loss(y_true, y_pred):\n",
    "    # Avoid divide by 0\n",
    "    y_pred = K.clip(y_pred, K.epsilon(), 1 - K.epsilon())\n",
    "    # Multi-task loss\n",
    "    return K.mean(K.sum(- y_true * K.log(y_pred) - (1 - y_true) * K.log(1 - y_pred), axis=1))"
   ]
  },
  {
   "cell_type": "code",
   "execution_count": null,
   "metadata": {
    "colab": {},
    "colab_type": "code",
    "id": "yS1nERVWGfJl"
   },
   "outputs": [],
   "source": [
    "def multitask_loss(y_true, y_pred):\n",
    "  # Avoid divide by 0\n",
    "  y_pred = K.clip(y_pred, K.epsilon(), 1 - K.epsilon())# Multi-task loss\n",
    "  return K.mean(K.sum(- y_true * K.log(y_pred) - (1 - y_true) * K.log(1 - y_pred), axis=1))"
   ]
  },
  {
   "cell_type": "code",
   "execution_count": null,
   "metadata": {
    "colab": {
     "base_uri": "https://localhost:8080/",
     "height": 510
    },
    "colab_type": "code",
    "id": "BWX4yQGJI-Co",
    "outputId": "bd21b5c0-5359-4e5b-e8f8-52bfb28f54b4",
    "scrolled": false
   },
   "outputs": [
    {
     "name": "stdout",
     "output_type": "stream",
     "text": [
      "model = Sequential()\n",
      "Embedding\n",
      "LSTM\n",
      "Dense\n",
      "Model: \"sequential\"\n",
      "_________________________________________________________________\n",
      "Layer (type)                 Output Shape              Param #   \n",
      "=================================================================\n",
      "embedding (Embedding)        (None, 300, 300)          33250200  \n",
      "_________________________________________________________________\n",
      "lstm (LSTM)                  (None, 500)               1602000   \n",
      "_________________________________________________________________\n",
      "dense (Dense)                (None, 10000)             5010000   \n",
      "_________________________________________________________________\n",
      "dropout (Dropout)            (None, 10000)             0         \n",
      "_________________________________________________________________\n",
      "dense_1 (Dense)              (None, 1150)              11501150  \n",
      "_________________________________________________________________\n",
      "dropout_1 (Dropout)          (None, 1150)              0         \n",
      "_________________________________________________________________\n",
      "dense_2 (Dense)              (None, 750)               863250    \n",
      "_________________________________________________________________\n",
      "dense_3 (Dense)              (None, 500)               375500    \n",
      "=================================================================\n",
      "Total params: 52,602,100\n",
      "Trainable params: 19,351,900\n",
      "Non-trainable params: 33,250,200\n",
      "_________________________________________________________________\n"
     ]
    }
   ],
   "source": [
    "# Build Model\n",
    "from keras.models import Sequential\n",
    "print(\"model = Sequential()\")\n",
    "model = Sequential()\n",
    "print(\"Embedding\")\n",
    "model.add(Embedding(vocab_size+1, W2V_SIZE, weights=[embedding_matrix], input_length=MAX_SEQUENCE_LENGTH, trainable=False))\n",
    "print(\"LSTM\")\n",
    "model.add(LSTM(500, dropout=0.2, recurrent_dropout=0.2))\n",
    "print(\"Dense\")\n",
    "model.add(Dense(units = 10000,kernel_initializer = 'glorot_uniform',activation = 'relu'))  \n",
    "model.add(Dropout(0.35))\n",
    "model.add(Dense(units = 1150,kernel_initializer = 'glorot_uniform',activation = 'relu'))\n",
    "model.add(Dropout(0.25))\n",
    "model.add(Dense(units = 750,kernel_initializer = 'glorot_uniform',activation = 'relu'))\n",
    "model.add(Dense(500, activation='sigmoid'))\n",
    "model.summary()\n",
    "model.compile(loss=\"multitask_loss\",optimizer=\"adam\")"
   ]
  },
  {
   "cell_type": "code",
   "execution_count": null,
   "metadata": {
    "colab": {
     "base_uri": "https://localhost:8080/",
     "height": 105
    },
    "colab_type": "code",
    "id": "-WTyuTIsSPra",
    "outputId": "92b7208a-e091-4014-a08c-54fc24f38b18"
   },
   "outputs": [
    {
     "data": {
      "text/plain": [
       "array(['page work collapsejs bootstrap', 'integer array items',\n",
       "       'kivy scrolling thousands lines text', ...,\n",
       "       'cell value pandas dataframe based value dataframe indexcolumn names',\n",
       "       'keylistener receives keyhit jtextfield', 'load beans dynamically'],\n",
       "      dtype=object)"
      ]
     },
     "execution_count": 29,
     "metadata": {
      "tags": []
     },
     "output_type": "execute_result"
    }
   ],
   "source": [
    "X_train"
   ]
  },
  {
   "cell_type": "code",
   "execution_count": null,
   "metadata": {
    "colab": {
     "base_uri": "https://localhost:8080/",
     "height": 493
    },
    "colab_type": "code",
    "id": "iO_2dPzOI-Cu",
    "outputId": "043feae8-d438-48ac-e173-d27b2dfa879a"
   },
   "outputs": [
    {
     "name": "stdout",
     "output_type": "stream",
     "text": [
      "Epoch 1/3\n",
      "69/69 [==============================] - ETA: 0s - loss: 9.2121 WARNING:tensorflow:Early stopping conditioned on metric `val_acc` which is not available. Available metrics are: loss,val_loss,lr\n",
      "69/69 [==============================] - 2635s 38s/step - loss: 9.2121 - val_loss: 8.4039\n",
      "Epoch 2/3\n",
      "19/69 [=======>......................] - ETA: 28:14 - loss: 8.0270"
     ]
    },
    {
     "ename": "KeyboardInterrupt",
     "evalue": "ignored",
     "output_type": "error",
     "traceback": [
      "\u001b[0;31m---------------------------------------------------------------------------\u001b[0m",
      "\u001b[0;31mKeyboardInterrupt\u001b[0m                         Traceback (most recent call last)",
      "\u001b[0;32m<ipython-input-32-322bb74f7e34>\u001b[0m in \u001b[0;36m<module>\u001b[0;34m()\u001b[0m\n\u001b[1;32m      9\u001b[0m                     \u001b[0mvalidation_split\u001b[0m\u001b[0;34m=\u001b[0m\u001b[0;36m0.2\u001b[0m\u001b[0;34m,\u001b[0m\u001b[0;34m\u001b[0m\u001b[0;34m\u001b[0m\u001b[0m\n\u001b[1;32m     10\u001b[0m                     \u001b[0mverbose\u001b[0m\u001b[0;34m=\u001b[0m\u001b[0;36m1\u001b[0m\u001b[0;34m,\u001b[0m\u001b[0;34m\u001b[0m\u001b[0;34m\u001b[0m\u001b[0m\n\u001b[0;32m---> 11\u001b[0;31m                     callbacks=callbacks)\n\u001b[0m\u001b[1;32m     12\u001b[0m \u001b[0;34m\u001b[0m\u001b[0m\n\u001b[1;32m     13\u001b[0m \u001b[0;31m# Save model\u001b[0m\u001b[0;34m\u001b[0m\u001b[0;34m\u001b[0m\u001b[0;34m\u001b[0m\u001b[0m\n",
      "\u001b[0;32m/usr/local/lib/python3.6/dist-packages/tensorflow/python/keras/engine/training.py\u001b[0m in \u001b[0;36m_method_wrapper\u001b[0;34m(self, *args, **kwargs)\u001b[0m\n\u001b[1;32m    106\u001b[0m   \u001b[0;32mdef\u001b[0m \u001b[0m_method_wrapper\u001b[0m\u001b[0;34m(\u001b[0m\u001b[0mself\u001b[0m\u001b[0;34m,\u001b[0m \u001b[0;34m*\u001b[0m\u001b[0margs\u001b[0m\u001b[0;34m,\u001b[0m \u001b[0;34m**\u001b[0m\u001b[0mkwargs\u001b[0m\u001b[0;34m)\u001b[0m\u001b[0;34m:\u001b[0m\u001b[0;34m\u001b[0m\u001b[0;34m\u001b[0m\u001b[0m\n\u001b[1;32m    107\u001b[0m     \u001b[0;32mif\u001b[0m \u001b[0;32mnot\u001b[0m \u001b[0mself\u001b[0m\u001b[0;34m.\u001b[0m\u001b[0m_in_multi_worker_mode\u001b[0m\u001b[0;34m(\u001b[0m\u001b[0;34m)\u001b[0m\u001b[0;34m:\u001b[0m  \u001b[0;31m# pylint: disable=protected-access\u001b[0m\u001b[0;34m\u001b[0m\u001b[0;34m\u001b[0m\u001b[0m\n\u001b[0;32m--> 108\u001b[0;31m       \u001b[0;32mreturn\u001b[0m \u001b[0mmethod\u001b[0m\u001b[0;34m(\u001b[0m\u001b[0mself\u001b[0m\u001b[0;34m,\u001b[0m \u001b[0;34m*\u001b[0m\u001b[0margs\u001b[0m\u001b[0;34m,\u001b[0m \u001b[0;34m**\u001b[0m\u001b[0mkwargs\u001b[0m\u001b[0;34m)\u001b[0m\u001b[0;34m\u001b[0m\u001b[0;34m\u001b[0m\u001b[0m\n\u001b[0m\u001b[1;32m    109\u001b[0m \u001b[0;34m\u001b[0m\u001b[0m\n\u001b[1;32m    110\u001b[0m     \u001b[0;31m# Running inside `run_distribute_coordinator` already.\u001b[0m\u001b[0;34m\u001b[0m\u001b[0;34m\u001b[0m\u001b[0;34m\u001b[0m\u001b[0m\n",
      "\u001b[0;32m/usr/local/lib/python3.6/dist-packages/tensorflow/python/keras/engine/training.py\u001b[0m in \u001b[0;36mfit\u001b[0;34m(self, x, y, batch_size, epochs, verbose, callbacks, validation_split, validation_data, shuffle, class_weight, sample_weight, initial_epoch, steps_per_epoch, validation_steps, validation_batch_size, validation_freq, max_queue_size, workers, use_multiprocessing)\u001b[0m\n\u001b[1;32m   1096\u001b[0m                 batch_size=batch_size):\n\u001b[1;32m   1097\u001b[0m               \u001b[0mcallbacks\u001b[0m\u001b[0;34m.\u001b[0m\u001b[0mon_train_batch_begin\u001b[0m\u001b[0;34m(\u001b[0m\u001b[0mstep\u001b[0m\u001b[0;34m)\u001b[0m\u001b[0;34m\u001b[0m\u001b[0;34m\u001b[0m\u001b[0m\n\u001b[0;32m-> 1098\u001b[0;31m               \u001b[0mtmp_logs\u001b[0m \u001b[0;34m=\u001b[0m \u001b[0mtrain_function\u001b[0m\u001b[0;34m(\u001b[0m\u001b[0miterator\u001b[0m\u001b[0;34m)\u001b[0m\u001b[0;34m\u001b[0m\u001b[0;34m\u001b[0m\u001b[0m\n\u001b[0m\u001b[1;32m   1099\u001b[0m               \u001b[0;32mif\u001b[0m \u001b[0mdata_handler\u001b[0m\u001b[0;34m.\u001b[0m\u001b[0mshould_sync\u001b[0m\u001b[0;34m:\u001b[0m\u001b[0;34m\u001b[0m\u001b[0;34m\u001b[0m\u001b[0m\n\u001b[1;32m   1100\u001b[0m                 \u001b[0mcontext\u001b[0m\u001b[0;34m.\u001b[0m\u001b[0masync_wait\u001b[0m\u001b[0;34m(\u001b[0m\u001b[0;34m)\u001b[0m\u001b[0;34m\u001b[0m\u001b[0;34m\u001b[0m\u001b[0m\n",
      "\u001b[0;32m/usr/local/lib/python3.6/dist-packages/tensorflow/python/eager/def_function.py\u001b[0m in \u001b[0;36m__call__\u001b[0;34m(self, *args, **kwds)\u001b[0m\n\u001b[1;32m    778\u001b[0m       \u001b[0;32melse\u001b[0m\u001b[0;34m:\u001b[0m\u001b[0;34m\u001b[0m\u001b[0;34m\u001b[0m\u001b[0m\n\u001b[1;32m    779\u001b[0m         \u001b[0mcompiler\u001b[0m \u001b[0;34m=\u001b[0m \u001b[0;34m\"nonXla\"\u001b[0m\u001b[0;34m\u001b[0m\u001b[0;34m\u001b[0m\u001b[0m\n\u001b[0;32m--> 780\u001b[0;31m         \u001b[0mresult\u001b[0m \u001b[0;34m=\u001b[0m \u001b[0mself\u001b[0m\u001b[0;34m.\u001b[0m\u001b[0m_call\u001b[0m\u001b[0;34m(\u001b[0m\u001b[0;34m*\u001b[0m\u001b[0margs\u001b[0m\u001b[0;34m,\u001b[0m \u001b[0;34m**\u001b[0m\u001b[0mkwds\u001b[0m\u001b[0;34m)\u001b[0m\u001b[0;34m\u001b[0m\u001b[0;34m\u001b[0m\u001b[0m\n\u001b[0m\u001b[1;32m    781\u001b[0m \u001b[0;34m\u001b[0m\u001b[0m\n\u001b[1;32m    782\u001b[0m       \u001b[0mnew_tracing_count\u001b[0m \u001b[0;34m=\u001b[0m \u001b[0mself\u001b[0m\u001b[0;34m.\u001b[0m\u001b[0m_get_tracing_count\u001b[0m\u001b[0;34m(\u001b[0m\u001b[0;34m)\u001b[0m\u001b[0;34m\u001b[0m\u001b[0;34m\u001b[0m\u001b[0m\n",
      "\u001b[0;32m/usr/local/lib/python3.6/dist-packages/tensorflow/python/eager/def_function.py\u001b[0m in \u001b[0;36m_call\u001b[0;34m(self, *args, **kwds)\u001b[0m\n\u001b[1;32m    805\u001b[0m       \u001b[0;31m# In this case we have created variables on the first call, so we run the\u001b[0m\u001b[0;34m\u001b[0m\u001b[0;34m\u001b[0m\u001b[0;34m\u001b[0m\u001b[0m\n\u001b[1;32m    806\u001b[0m       \u001b[0;31m# defunned version which is guaranteed to never create variables.\u001b[0m\u001b[0;34m\u001b[0m\u001b[0;34m\u001b[0m\u001b[0;34m\u001b[0m\u001b[0m\n\u001b[0;32m--> 807\u001b[0;31m       \u001b[0;32mreturn\u001b[0m \u001b[0mself\u001b[0m\u001b[0;34m.\u001b[0m\u001b[0m_stateless_fn\u001b[0m\u001b[0;34m(\u001b[0m\u001b[0;34m*\u001b[0m\u001b[0margs\u001b[0m\u001b[0;34m,\u001b[0m \u001b[0;34m**\u001b[0m\u001b[0mkwds\u001b[0m\u001b[0;34m)\u001b[0m  \u001b[0;31m# pylint: disable=not-callable\u001b[0m\u001b[0;34m\u001b[0m\u001b[0;34m\u001b[0m\u001b[0m\n\u001b[0m\u001b[1;32m    808\u001b[0m     \u001b[0;32melif\u001b[0m \u001b[0mself\u001b[0m\u001b[0;34m.\u001b[0m\u001b[0m_stateful_fn\u001b[0m \u001b[0;32mis\u001b[0m \u001b[0;32mnot\u001b[0m \u001b[0;32mNone\u001b[0m\u001b[0;34m:\u001b[0m\u001b[0;34m\u001b[0m\u001b[0;34m\u001b[0m\u001b[0m\n\u001b[1;32m    809\u001b[0m       \u001b[0;31m# Release the lock early so that multiple threads can perform the call\u001b[0m\u001b[0;34m\u001b[0m\u001b[0;34m\u001b[0m\u001b[0;34m\u001b[0m\u001b[0m\n",
      "\u001b[0;32m/usr/local/lib/python3.6/dist-packages/tensorflow/python/eager/function.py\u001b[0m in \u001b[0;36m__call__\u001b[0;34m(self, *args, **kwargs)\u001b[0m\n\u001b[1;32m   2827\u001b[0m     \u001b[0;32mwith\u001b[0m \u001b[0mself\u001b[0m\u001b[0;34m.\u001b[0m\u001b[0m_lock\u001b[0m\u001b[0;34m:\u001b[0m\u001b[0;34m\u001b[0m\u001b[0;34m\u001b[0m\u001b[0m\n\u001b[1;32m   2828\u001b[0m       \u001b[0mgraph_function\u001b[0m\u001b[0;34m,\u001b[0m \u001b[0margs\u001b[0m\u001b[0;34m,\u001b[0m \u001b[0mkwargs\u001b[0m \u001b[0;34m=\u001b[0m \u001b[0mself\u001b[0m\u001b[0;34m.\u001b[0m\u001b[0m_maybe_define_function\u001b[0m\u001b[0;34m(\u001b[0m\u001b[0margs\u001b[0m\u001b[0;34m,\u001b[0m \u001b[0mkwargs\u001b[0m\u001b[0;34m)\u001b[0m\u001b[0;34m\u001b[0m\u001b[0;34m\u001b[0m\u001b[0m\n\u001b[0;32m-> 2829\u001b[0;31m     \u001b[0;32mreturn\u001b[0m \u001b[0mgraph_function\u001b[0m\u001b[0;34m.\u001b[0m\u001b[0m_filtered_call\u001b[0m\u001b[0;34m(\u001b[0m\u001b[0margs\u001b[0m\u001b[0;34m,\u001b[0m \u001b[0mkwargs\u001b[0m\u001b[0;34m)\u001b[0m  \u001b[0;31m# pylint: disable=protected-access\u001b[0m\u001b[0;34m\u001b[0m\u001b[0;34m\u001b[0m\u001b[0m\n\u001b[0m\u001b[1;32m   2830\u001b[0m \u001b[0;34m\u001b[0m\u001b[0m\n\u001b[1;32m   2831\u001b[0m   \u001b[0;34m@\u001b[0m\u001b[0mproperty\u001b[0m\u001b[0;34m\u001b[0m\u001b[0;34m\u001b[0m\u001b[0m\n",
      "\u001b[0;32m/usr/local/lib/python3.6/dist-packages/tensorflow/python/eager/function.py\u001b[0m in \u001b[0;36m_filtered_call\u001b[0;34m(self, args, kwargs, cancellation_manager)\u001b[0m\n\u001b[1;32m   1846\u001b[0m                            resource_variable_ops.BaseResourceVariable))],\n\u001b[1;32m   1847\u001b[0m         \u001b[0mcaptured_inputs\u001b[0m\u001b[0;34m=\u001b[0m\u001b[0mself\u001b[0m\u001b[0;34m.\u001b[0m\u001b[0mcaptured_inputs\u001b[0m\u001b[0;34m,\u001b[0m\u001b[0;34m\u001b[0m\u001b[0;34m\u001b[0m\u001b[0m\n\u001b[0;32m-> 1848\u001b[0;31m         cancellation_manager=cancellation_manager)\n\u001b[0m\u001b[1;32m   1849\u001b[0m \u001b[0;34m\u001b[0m\u001b[0m\n\u001b[1;32m   1850\u001b[0m   \u001b[0;32mdef\u001b[0m \u001b[0m_call_flat\u001b[0m\u001b[0;34m(\u001b[0m\u001b[0mself\u001b[0m\u001b[0;34m,\u001b[0m \u001b[0margs\u001b[0m\u001b[0;34m,\u001b[0m \u001b[0mcaptured_inputs\u001b[0m\u001b[0;34m,\u001b[0m \u001b[0mcancellation_manager\u001b[0m\u001b[0;34m=\u001b[0m\u001b[0;32mNone\u001b[0m\u001b[0;34m)\u001b[0m\u001b[0;34m:\u001b[0m\u001b[0;34m\u001b[0m\u001b[0;34m\u001b[0m\u001b[0m\n",
      "\u001b[0;32m/usr/local/lib/python3.6/dist-packages/tensorflow/python/eager/function.py\u001b[0m in \u001b[0;36m_call_flat\u001b[0;34m(self, args, captured_inputs, cancellation_manager)\u001b[0m\n\u001b[1;32m   1922\u001b[0m       \u001b[0;31m# No tape is watching; skip to running the function.\u001b[0m\u001b[0;34m\u001b[0m\u001b[0;34m\u001b[0m\u001b[0;34m\u001b[0m\u001b[0m\n\u001b[1;32m   1923\u001b[0m       return self._build_call_outputs(self._inference_function.call(\n\u001b[0;32m-> 1924\u001b[0;31m           ctx, args, cancellation_manager=cancellation_manager))\n\u001b[0m\u001b[1;32m   1925\u001b[0m     forward_backward = self._select_forward_and_backward_functions(\n\u001b[1;32m   1926\u001b[0m         \u001b[0margs\u001b[0m\u001b[0;34m,\u001b[0m\u001b[0;34m\u001b[0m\u001b[0;34m\u001b[0m\u001b[0m\n",
      "\u001b[0;32m/usr/local/lib/python3.6/dist-packages/tensorflow/python/eager/function.py\u001b[0m in \u001b[0;36mcall\u001b[0;34m(self, ctx, args, cancellation_manager)\u001b[0m\n\u001b[1;32m    548\u001b[0m               \u001b[0minputs\u001b[0m\u001b[0;34m=\u001b[0m\u001b[0margs\u001b[0m\u001b[0;34m,\u001b[0m\u001b[0;34m\u001b[0m\u001b[0;34m\u001b[0m\u001b[0m\n\u001b[1;32m    549\u001b[0m               \u001b[0mattrs\u001b[0m\u001b[0;34m=\u001b[0m\u001b[0mattrs\u001b[0m\u001b[0;34m,\u001b[0m\u001b[0;34m\u001b[0m\u001b[0;34m\u001b[0m\u001b[0m\n\u001b[0;32m--> 550\u001b[0;31m               ctx=ctx)\n\u001b[0m\u001b[1;32m    551\u001b[0m         \u001b[0;32melse\u001b[0m\u001b[0;34m:\u001b[0m\u001b[0;34m\u001b[0m\u001b[0;34m\u001b[0m\u001b[0m\n\u001b[1;32m    552\u001b[0m           outputs = execute.execute_with_cancellation(\n",
      "\u001b[0;32m/usr/local/lib/python3.6/dist-packages/tensorflow/python/eager/execute.py\u001b[0m in \u001b[0;36mquick_execute\u001b[0;34m(op_name, num_outputs, inputs, attrs, ctx, name)\u001b[0m\n\u001b[1;32m     58\u001b[0m     \u001b[0mctx\u001b[0m\u001b[0;34m.\u001b[0m\u001b[0mensure_initialized\u001b[0m\u001b[0;34m(\u001b[0m\u001b[0;34m)\u001b[0m\u001b[0;34m\u001b[0m\u001b[0;34m\u001b[0m\u001b[0m\n\u001b[1;32m     59\u001b[0m     tensors = pywrap_tfe.TFE_Py_Execute(ctx._handle, device_name, op_name,\n\u001b[0;32m---> 60\u001b[0;31m                                         inputs, attrs, num_outputs)\n\u001b[0m\u001b[1;32m     61\u001b[0m   \u001b[0;32mexcept\u001b[0m \u001b[0mcore\u001b[0m\u001b[0;34m.\u001b[0m\u001b[0m_NotOkStatusException\u001b[0m \u001b[0;32mas\u001b[0m \u001b[0me\u001b[0m\u001b[0;34m:\u001b[0m\u001b[0;34m\u001b[0m\u001b[0;34m\u001b[0m\u001b[0m\n\u001b[1;32m     62\u001b[0m     \u001b[0;32mif\u001b[0m \u001b[0mname\u001b[0m \u001b[0;32mis\u001b[0m \u001b[0;32mnot\u001b[0m \u001b[0;32mNone\u001b[0m\u001b[0;34m:\u001b[0m\u001b[0;34m\u001b[0m\u001b[0;34m\u001b[0m\u001b[0m\n",
      "\u001b[0;31mKeyboardInterrupt\u001b[0m: "
     ]
    }
   ],
   "source": [
    "# Train Model\n",
    "from tensorflow.keras.callbacks import ReduceLROnPlateau, EarlyStopping\n",
    "callbacks = [ ReduceLROnPlateau(monitor='val_loss', patience=5, cooldown=0),\n",
    "              EarlyStopping(monitor='val_acc', min_delta=1e-4, patience=5)]\n",
    "\n",
    "BATCH_SIZE = 512\n",
    "history = model.fit(X_train_padded, y_train, batch_size=BATCH_SIZE,\n",
    "                    epochs=15,\n",
    "                    validation_split=0.1,\n",
    "                    verbose=1,\n",
    "                    callbacks=callbacks)\n",
    "\n",
    "# Save model\n",
    "model.save('drive/My Drive/Colab Notebooks/File/Tag_predictor.h5')"
   ]
  },
  {
   "cell_type": "code",
   "execution_count": null,
   "metadata": {
    "colab": {},
    "colab_type": "code",
    "id": "mgxSd0ovlbYC"
   },
   "outputs": [],
   "source": [
    "model.save('drive/My Drive/Colab Notebooks/File/Tag_predictor.h5')"
   ]
  },
  {
   "cell_type": "code",
   "execution_count": null,
   "metadata": {
    "colab": {},
    "colab_type": "code",
    "id": "-o5J9UPhI-Cw",
    "scrolled": true
   },
   "outputs": [],
   "source": [
    "from tensorflow.keras.models import load_model\n",
    "import tensorflow.keras.losses\n",
    "\n",
    "tensorflow.keras.losses.multitask_loss = multitask_loss\n",
    "model = load_model('drive/My Drive/Colab Notebooks/File/Tag_predictor.h5')"
   ]
  },
  {
   "cell_type": "code",
   "execution_count": null,
   "metadata": {
    "colab": {},
    "colab_type": "code",
    "id": "0-Pr7rvtlmK7"
   },
   "outputs": [],
   "source": [
    "\n",
    "# Helper function to save the training history for plotting purposes\n",
    "\n",
    "import json,codecs\n",
    "import numpy as np\n",
    "def saveHist(path,history):\n",
    "\n",
    "    new_hist = {}\n",
    "    for key in list(history.history.keys()):\n",
    "        if type(history.history[key]) == np.ndarray:\n",
    "            new_hist[key] == history.history[key].tolist()\n",
    "        elif type(history.history[key]) == list:\n",
    "            if  type(history.history[key][0]) == np.float64:\n",
    "                new_hist[key] = list(map(float, history.history[key]))\n",
    "\n",
    "    print(new_hist)\n",
    "    with codecs.open(path, 'w', encoding='utf-8') as f:\n",
    "        json.dump(new_hist, f, separators=(',', ':'), sort_keys=True, indent=4) \n",
    "\n",
    "def loadHist(path):\n",
    "    with codecs.open(path, 'r', encoding='utf-8') as f:\n",
    "        n = json.loads(f.read())\n",
    "    return n"
   ]
  },
  {
   "cell_type": "code",
   "execution_count": null,
   "metadata": {
    "colab": {
     "base_uri": "https://localhost:8080/",
     "height": 367
    },
    "colab_type": "code",
    "id": "BKkxSkFyI-Cz",
    "outputId": "f51dcb6f-e7e1-48f2-b189-a9fee6b48c82"
   },
   "outputs": [
    {
     "ename": "KeyboardInterrupt",
     "evalue": "ignored",
     "output_type": "error",
     "traceback": [
      "\u001b[0;31m---------------------------------------------------------------------------\u001b[0m",
      "\u001b[0;31mKeyboardInterrupt\u001b[0m                         Traceback (most recent call last)",
      "\u001b[0;32m<ipython-input-41-ed7f80d36566>\u001b[0m in \u001b[0;36m<module>\u001b[0;34m()\u001b[0m\n\u001b[1;32m      1\u001b[0m \u001b[0mX_test_padded\u001b[0m \u001b[0;34m=\u001b[0m \u001b[0mtokenizer\u001b[0m\u001b[0;34m.\u001b[0m\u001b[0mtexts_to_sequences\u001b[0m\u001b[0;34m(\u001b[0m\u001b[0mX_test\u001b[0m\u001b[0;34m)\u001b[0m\u001b[0;34m\u001b[0m\u001b[0;34m\u001b[0m\u001b[0m\n\u001b[1;32m      2\u001b[0m \u001b[0mX_test_padded\u001b[0m \u001b[0;34m=\u001b[0m \u001b[0mpad_sequences\u001b[0m\u001b[0;34m(\u001b[0m\u001b[0mX_test_padded\u001b[0m\u001b[0;34m,\u001b[0m \u001b[0mmaxlen\u001b[0m\u001b[0;34m=\u001b[0m\u001b[0mMAX_SEQUENCE_LENGTH\u001b[0m\u001b[0;34m)\u001b[0m\u001b[0;34m\u001b[0m\u001b[0;34m\u001b[0m\u001b[0m\n\u001b[0;32m----> 3\u001b[0;31m \u001b[0mscore\u001b[0m \u001b[0;34m=\u001b[0m \u001b[0mmodel\u001b[0m\u001b[0;34m.\u001b[0m\u001b[0mevaluate\u001b[0m\u001b[0;34m(\u001b[0m\u001b[0mX_test_padded\u001b[0m\u001b[0;34m,\u001b[0m \u001b[0my_test\u001b[0m\u001b[0;34m,\u001b[0m \u001b[0mbatch_size\u001b[0m\u001b[0;34m=\u001b[0m\u001b[0;36m512\u001b[0m\u001b[0;34m)\u001b[0m\u001b[0;34m\u001b[0m\u001b[0;34m\u001b[0m\u001b[0m\n\u001b[0m\u001b[1;32m      4\u001b[0m \u001b[0mprint\u001b[0m\u001b[0;34m(\u001b[0m\u001b[0;34m\"LOSS:\"\u001b[0m\u001b[0;34m,\u001b[0m\u001b[0mscore\u001b[0m\u001b[0;34m)\u001b[0m\u001b[0;34m\u001b[0m\u001b[0;34m\u001b[0m\u001b[0m\n",
      "\u001b[0;32m/usr/local/lib/python3.6/dist-packages/tensorflow/python/keras/engine/training.py\u001b[0m in \u001b[0;36m_method_wrapper\u001b[0;34m(self, *args, **kwargs)\u001b[0m\n\u001b[1;32m    106\u001b[0m   \u001b[0;32mdef\u001b[0m \u001b[0m_method_wrapper\u001b[0m\u001b[0;34m(\u001b[0m\u001b[0mself\u001b[0m\u001b[0;34m,\u001b[0m \u001b[0;34m*\u001b[0m\u001b[0margs\u001b[0m\u001b[0;34m,\u001b[0m \u001b[0;34m**\u001b[0m\u001b[0mkwargs\u001b[0m\u001b[0;34m)\u001b[0m\u001b[0;34m:\u001b[0m\u001b[0;34m\u001b[0m\u001b[0;34m\u001b[0m\u001b[0m\n\u001b[1;32m    107\u001b[0m     \u001b[0;32mif\u001b[0m \u001b[0;32mnot\u001b[0m \u001b[0mself\u001b[0m\u001b[0;34m.\u001b[0m\u001b[0m_in_multi_worker_mode\u001b[0m\u001b[0;34m(\u001b[0m\u001b[0;34m)\u001b[0m\u001b[0;34m:\u001b[0m  \u001b[0;31m# pylint: disable=protected-access\u001b[0m\u001b[0;34m\u001b[0m\u001b[0;34m\u001b[0m\u001b[0m\n\u001b[0;32m--> 108\u001b[0;31m       \u001b[0;32mreturn\u001b[0m \u001b[0mmethod\u001b[0m\u001b[0;34m(\u001b[0m\u001b[0mself\u001b[0m\u001b[0;34m,\u001b[0m \u001b[0;34m*\u001b[0m\u001b[0margs\u001b[0m\u001b[0;34m,\u001b[0m \u001b[0;34m**\u001b[0m\u001b[0mkwargs\u001b[0m\u001b[0;34m)\u001b[0m\u001b[0;34m\u001b[0m\u001b[0;34m\u001b[0m\u001b[0m\n\u001b[0m\u001b[1;32m    109\u001b[0m \u001b[0;34m\u001b[0m\u001b[0m\n\u001b[1;32m    110\u001b[0m     \u001b[0;31m# Running inside `run_distribute_coordinator` already.\u001b[0m\u001b[0;34m\u001b[0m\u001b[0;34m\u001b[0m\u001b[0;34m\u001b[0m\u001b[0m\n",
      "\u001b[0;32m/usr/local/lib/python3.6/dist-packages/tensorflow/python/keras/engine/training.py\u001b[0m in \u001b[0;36mevaluate\u001b[0;34m(self, x, y, batch_size, verbose, sample_weight, steps, callbacks, max_queue_size, workers, use_multiprocessing, return_dict)\u001b[0m\n\u001b[1;32m   1377\u001b[0m             \u001b[0;32mwith\u001b[0m \u001b[0mtrace\u001b[0m\u001b[0;34m.\u001b[0m\u001b[0mTrace\u001b[0m\u001b[0;34m(\u001b[0m\u001b[0;34m'TraceContext'\u001b[0m\u001b[0;34m,\u001b[0m \u001b[0mgraph_type\u001b[0m\u001b[0;34m=\u001b[0m\u001b[0;34m'test'\u001b[0m\u001b[0;34m,\u001b[0m \u001b[0mstep_num\u001b[0m\u001b[0;34m=\u001b[0m\u001b[0mstep\u001b[0m\u001b[0;34m)\u001b[0m\u001b[0;34m:\u001b[0m\u001b[0;34m\u001b[0m\u001b[0;34m\u001b[0m\u001b[0m\n\u001b[1;32m   1378\u001b[0m               \u001b[0mcallbacks\u001b[0m\u001b[0;34m.\u001b[0m\u001b[0mon_test_batch_begin\u001b[0m\u001b[0;34m(\u001b[0m\u001b[0mstep\u001b[0m\u001b[0;34m)\u001b[0m\u001b[0;34m\u001b[0m\u001b[0;34m\u001b[0m\u001b[0m\n\u001b[0;32m-> 1379\u001b[0;31m               \u001b[0mtmp_logs\u001b[0m \u001b[0;34m=\u001b[0m \u001b[0mtest_function\u001b[0m\u001b[0;34m(\u001b[0m\u001b[0miterator\u001b[0m\u001b[0;34m)\u001b[0m\u001b[0;34m\u001b[0m\u001b[0;34m\u001b[0m\u001b[0m\n\u001b[0m\u001b[1;32m   1380\u001b[0m               \u001b[0;32mif\u001b[0m \u001b[0mdata_handler\u001b[0m\u001b[0;34m.\u001b[0m\u001b[0mshould_sync\u001b[0m\u001b[0;34m:\u001b[0m\u001b[0;34m\u001b[0m\u001b[0;34m\u001b[0m\u001b[0m\n\u001b[1;32m   1381\u001b[0m                 \u001b[0mcontext\u001b[0m\u001b[0;34m.\u001b[0m\u001b[0masync_wait\u001b[0m\u001b[0;34m(\u001b[0m\u001b[0;34m)\u001b[0m\u001b[0;34m\u001b[0m\u001b[0;34m\u001b[0m\u001b[0m\n",
      "\u001b[0;32m/usr/local/lib/python3.6/dist-packages/tensorflow/python/eager/def_function.py\u001b[0m in \u001b[0;36m__call__\u001b[0;34m(self, *args, **kwds)\u001b[0m\n\u001b[1;32m    778\u001b[0m       \u001b[0;32melse\u001b[0m\u001b[0;34m:\u001b[0m\u001b[0;34m\u001b[0m\u001b[0;34m\u001b[0m\u001b[0m\n\u001b[1;32m    779\u001b[0m         \u001b[0mcompiler\u001b[0m \u001b[0;34m=\u001b[0m \u001b[0;34m\"nonXla\"\u001b[0m\u001b[0;34m\u001b[0m\u001b[0;34m\u001b[0m\u001b[0m\n\u001b[0;32m--> 780\u001b[0;31m         \u001b[0mresult\u001b[0m \u001b[0;34m=\u001b[0m \u001b[0mself\u001b[0m\u001b[0;34m.\u001b[0m\u001b[0m_call\u001b[0m\u001b[0;34m(\u001b[0m\u001b[0;34m*\u001b[0m\u001b[0margs\u001b[0m\u001b[0;34m,\u001b[0m \u001b[0;34m**\u001b[0m\u001b[0mkwds\u001b[0m\u001b[0;34m)\u001b[0m\u001b[0;34m\u001b[0m\u001b[0;34m\u001b[0m\u001b[0m\n\u001b[0m\u001b[1;32m    781\u001b[0m \u001b[0;34m\u001b[0m\u001b[0m\n\u001b[1;32m    782\u001b[0m       \u001b[0mnew_tracing_count\u001b[0m \u001b[0;34m=\u001b[0m \u001b[0mself\u001b[0m\u001b[0;34m.\u001b[0m\u001b[0m_get_tracing_count\u001b[0m\u001b[0;34m(\u001b[0m\u001b[0;34m)\u001b[0m\u001b[0;34m\u001b[0m\u001b[0;34m\u001b[0m\u001b[0m\n",
      "\u001b[0;32m/usr/local/lib/python3.6/dist-packages/tensorflow/python/eager/def_function.py\u001b[0m in \u001b[0;36m_call\u001b[0;34m(self, *args, **kwds)\u001b[0m\n\u001b[1;32m    812\u001b[0m       \u001b[0;31m# In this case we have not created variables on the first call. So we can\u001b[0m\u001b[0;34m\u001b[0m\u001b[0;34m\u001b[0m\u001b[0;34m\u001b[0m\u001b[0m\n\u001b[1;32m    813\u001b[0m       \u001b[0;31m# run the first trace but we should fail if variables are created.\u001b[0m\u001b[0;34m\u001b[0m\u001b[0;34m\u001b[0m\u001b[0;34m\u001b[0m\u001b[0m\n\u001b[0;32m--> 814\u001b[0;31m       \u001b[0mresults\u001b[0m \u001b[0;34m=\u001b[0m \u001b[0mself\u001b[0m\u001b[0;34m.\u001b[0m\u001b[0m_stateful_fn\u001b[0m\u001b[0;34m(\u001b[0m\u001b[0;34m*\u001b[0m\u001b[0margs\u001b[0m\u001b[0;34m,\u001b[0m \u001b[0;34m**\u001b[0m\u001b[0mkwds\u001b[0m\u001b[0;34m)\u001b[0m\u001b[0;34m\u001b[0m\u001b[0;34m\u001b[0m\u001b[0m\n\u001b[0m\u001b[1;32m    815\u001b[0m       \u001b[0;32mif\u001b[0m \u001b[0mself\u001b[0m\u001b[0;34m.\u001b[0m\u001b[0m_created_variables\u001b[0m\u001b[0;34m:\u001b[0m\u001b[0;34m\u001b[0m\u001b[0;34m\u001b[0m\u001b[0m\n\u001b[1;32m    816\u001b[0m         raise ValueError(\"Creating variables on a non-first call to a function\"\n",
      "\u001b[0;32m/usr/local/lib/python3.6/dist-packages/tensorflow/python/eager/function.py\u001b[0m in \u001b[0;36m__call__\u001b[0;34m(self, *args, **kwargs)\u001b[0m\n\u001b[1;32m   2827\u001b[0m     \u001b[0;32mwith\u001b[0m \u001b[0mself\u001b[0m\u001b[0;34m.\u001b[0m\u001b[0m_lock\u001b[0m\u001b[0;34m:\u001b[0m\u001b[0;34m\u001b[0m\u001b[0;34m\u001b[0m\u001b[0m\n\u001b[1;32m   2828\u001b[0m       \u001b[0mgraph_function\u001b[0m\u001b[0;34m,\u001b[0m \u001b[0margs\u001b[0m\u001b[0;34m,\u001b[0m \u001b[0mkwargs\u001b[0m \u001b[0;34m=\u001b[0m \u001b[0mself\u001b[0m\u001b[0;34m.\u001b[0m\u001b[0m_maybe_define_function\u001b[0m\u001b[0;34m(\u001b[0m\u001b[0margs\u001b[0m\u001b[0;34m,\u001b[0m \u001b[0mkwargs\u001b[0m\u001b[0;34m)\u001b[0m\u001b[0;34m\u001b[0m\u001b[0;34m\u001b[0m\u001b[0m\n\u001b[0;32m-> 2829\u001b[0;31m     \u001b[0;32mreturn\u001b[0m \u001b[0mgraph_function\u001b[0m\u001b[0;34m.\u001b[0m\u001b[0m_filtered_call\u001b[0m\u001b[0;34m(\u001b[0m\u001b[0margs\u001b[0m\u001b[0;34m,\u001b[0m \u001b[0mkwargs\u001b[0m\u001b[0;34m)\u001b[0m  \u001b[0;31m# pylint: disable=protected-access\u001b[0m\u001b[0;34m\u001b[0m\u001b[0;34m\u001b[0m\u001b[0m\n\u001b[0m\u001b[1;32m   2830\u001b[0m \u001b[0;34m\u001b[0m\u001b[0m\n\u001b[1;32m   2831\u001b[0m   \u001b[0;34m@\u001b[0m\u001b[0mproperty\u001b[0m\u001b[0;34m\u001b[0m\u001b[0;34m\u001b[0m\u001b[0m\n",
      "\u001b[0;32m/usr/local/lib/python3.6/dist-packages/tensorflow/python/eager/function.py\u001b[0m in \u001b[0;36m_filtered_call\u001b[0;34m(self, args, kwargs, cancellation_manager)\u001b[0m\n\u001b[1;32m   1846\u001b[0m                            resource_variable_ops.BaseResourceVariable))],\n\u001b[1;32m   1847\u001b[0m         \u001b[0mcaptured_inputs\u001b[0m\u001b[0;34m=\u001b[0m\u001b[0mself\u001b[0m\u001b[0;34m.\u001b[0m\u001b[0mcaptured_inputs\u001b[0m\u001b[0;34m,\u001b[0m\u001b[0;34m\u001b[0m\u001b[0;34m\u001b[0m\u001b[0m\n\u001b[0;32m-> 1848\u001b[0;31m         cancellation_manager=cancellation_manager)\n\u001b[0m\u001b[1;32m   1849\u001b[0m \u001b[0;34m\u001b[0m\u001b[0m\n\u001b[1;32m   1850\u001b[0m   \u001b[0;32mdef\u001b[0m \u001b[0m_call_flat\u001b[0m\u001b[0;34m(\u001b[0m\u001b[0mself\u001b[0m\u001b[0;34m,\u001b[0m \u001b[0margs\u001b[0m\u001b[0;34m,\u001b[0m \u001b[0mcaptured_inputs\u001b[0m\u001b[0;34m,\u001b[0m \u001b[0mcancellation_manager\u001b[0m\u001b[0;34m=\u001b[0m\u001b[0;32mNone\u001b[0m\u001b[0;34m)\u001b[0m\u001b[0;34m:\u001b[0m\u001b[0;34m\u001b[0m\u001b[0;34m\u001b[0m\u001b[0m\n",
      "\u001b[0;32m/usr/local/lib/python3.6/dist-packages/tensorflow/python/eager/function.py\u001b[0m in \u001b[0;36m_call_flat\u001b[0;34m(self, args, captured_inputs, cancellation_manager)\u001b[0m\n\u001b[1;32m   1922\u001b[0m       \u001b[0;31m# No tape is watching; skip to running the function.\u001b[0m\u001b[0;34m\u001b[0m\u001b[0;34m\u001b[0m\u001b[0;34m\u001b[0m\u001b[0m\n\u001b[1;32m   1923\u001b[0m       return self._build_call_outputs(self._inference_function.call(\n\u001b[0;32m-> 1924\u001b[0;31m           ctx, args, cancellation_manager=cancellation_manager))\n\u001b[0m\u001b[1;32m   1925\u001b[0m     forward_backward = self._select_forward_and_backward_functions(\n\u001b[1;32m   1926\u001b[0m         \u001b[0margs\u001b[0m\u001b[0;34m,\u001b[0m\u001b[0;34m\u001b[0m\u001b[0;34m\u001b[0m\u001b[0m\n",
      "\u001b[0;32m/usr/local/lib/python3.6/dist-packages/tensorflow/python/eager/function.py\u001b[0m in \u001b[0;36mcall\u001b[0;34m(self, ctx, args, cancellation_manager)\u001b[0m\n\u001b[1;32m    548\u001b[0m               \u001b[0minputs\u001b[0m\u001b[0;34m=\u001b[0m\u001b[0margs\u001b[0m\u001b[0;34m,\u001b[0m\u001b[0;34m\u001b[0m\u001b[0;34m\u001b[0m\u001b[0m\n\u001b[1;32m    549\u001b[0m               \u001b[0mattrs\u001b[0m\u001b[0;34m=\u001b[0m\u001b[0mattrs\u001b[0m\u001b[0;34m,\u001b[0m\u001b[0;34m\u001b[0m\u001b[0;34m\u001b[0m\u001b[0m\n\u001b[0;32m--> 550\u001b[0;31m               ctx=ctx)\n\u001b[0m\u001b[1;32m    551\u001b[0m         \u001b[0;32melse\u001b[0m\u001b[0;34m:\u001b[0m\u001b[0;34m\u001b[0m\u001b[0;34m\u001b[0m\u001b[0m\n\u001b[1;32m    552\u001b[0m           outputs = execute.execute_with_cancellation(\n",
      "\u001b[0;32m/usr/local/lib/python3.6/dist-packages/tensorflow/python/eager/execute.py\u001b[0m in \u001b[0;36mquick_execute\u001b[0;34m(op_name, num_outputs, inputs, attrs, ctx, name)\u001b[0m\n\u001b[1;32m     58\u001b[0m     \u001b[0mctx\u001b[0m\u001b[0;34m.\u001b[0m\u001b[0mensure_initialized\u001b[0m\u001b[0;34m(\u001b[0m\u001b[0;34m)\u001b[0m\u001b[0;34m\u001b[0m\u001b[0;34m\u001b[0m\u001b[0m\n\u001b[1;32m     59\u001b[0m     tensors = pywrap_tfe.TFE_Py_Execute(ctx._handle, device_name, op_name,\n\u001b[0;32m---> 60\u001b[0;31m                                         inputs, attrs, num_outputs)\n\u001b[0m\u001b[1;32m     61\u001b[0m   \u001b[0;32mexcept\u001b[0m \u001b[0mcore\u001b[0m\u001b[0;34m.\u001b[0m\u001b[0m_NotOkStatusException\u001b[0m \u001b[0;32mas\u001b[0m \u001b[0me\u001b[0m\u001b[0;34m:\u001b[0m\u001b[0;34m\u001b[0m\u001b[0;34m\u001b[0m\u001b[0m\n\u001b[1;32m     62\u001b[0m     \u001b[0;32mif\u001b[0m \u001b[0mname\u001b[0m \u001b[0;32mis\u001b[0m \u001b[0;32mnot\u001b[0m \u001b[0;32mNone\u001b[0m\u001b[0;34m:\u001b[0m\u001b[0;34m\u001b[0m\u001b[0;34m\u001b[0m\u001b[0m\n",
      "\u001b[0;31mKeyboardInterrupt\u001b[0m: "
     ]
    }
   ],
   "source": [
    "X_test_padded = tokenizer.texts_to_sequences(X_test)\n",
    "X_test_padded = pad_sequences(X_test_padded, maxlen=MAX_SEQUENCE_LENGTH)\n",
    "score = model.evaluate(X_test_padded, y_test, batch_size=512)\n",
    "print(\"LOSS:\",score)\n"
   ]
  },
  {
   "cell_type": "code",
   "execution_count": null,
   "metadata": {
    "colab": {
     "base_uri": "https://localhost:8080/",
     "height": 238
    },
    "colab_type": "code",
    "id": "NarGHujmnEPj",
    "outputId": "2b103e74-abb5-4e55-94e1-cdd97c44b52a"
   },
   "outputs": [],
   "source": [
    "\n",
    "loss = history['loss']\n",
    "val_loss = history['val_loss']\n",
    " \n",
    "epochs = range(len(loss))\n",
    " \n",
    "plt.plot(epochs, loss, 'b', label='Training loss')\n",
    "plt.plot(epochs, val_loss, 'r', label='Validation loss')\n",
    "plt.title('Training and validation loss')\n",
    "plt.legend()\n",
    " \n",
    "plt.show()"
   ]
  },
  {
   "cell_type": "code",
   "execution_count": null,
   "metadata": {
    "colab": {},
    "colab_type": "code",
    "id": "FTrwLoxOnpd8"
   },
   "outputs": [],
   "source": [
    "def predict_tags(text):\n",
    "    # Tokenize text\n",
    "    x_test = pad_sequences(tokenizer.texts_to_sequences([text]), maxlen=MAX_SEQUENCE_LENGTH)\n",
    "    # Predict\n",
    "    prediction = model.predict([x_test])[0]\n",
    "    for i,value in enumerate(prediction):\n",
    "        if value > 0.5:\n",
    "            prediction[i] = 1\n",
    "        else:\n",
    "            prediction[i] = 0\n",
    "    tags = tag_encoder.inverse_transform(np.array([prediction]))\n",
    "    return tags"
   ]
  },
  {
   "cell_type": "code",
   "execution_count": null,
   "metadata": {
    "colab": {
     "base_uri": "https://localhost:8080/",
     "height": 545
    },
    "colab_type": "code",
    "id": "9xH9Ib1xns4K",
    "outputId": "9c60ea1e-9a17-4413-901f-a4b4c2d4f91e"
   },
   "outputs": [
    {
     "name": "stdout",
     "output_type": "stream",
     "text": [
      "Test Case: convert list number python\n",
      "----------------------------------------------------------------------------------------------------\n",
      "Predicted: [('dictionary', 'java', 'javascript', 'list', 'python')]\n",
      "Ground Truth: [('python', 'python-2.7')]\n",
      "\n",
      "\n",
      "Test Case: know request performed http http\n",
      "----------------------------------------------------------------------------------------------------\n",
      "Predicted: [('http', 'java', 'javascript', 'python', 'rest')]\n",
      "Ground Truth: [('http', 'javascript', 'node.js')]\n",
      "\n",
      "\n",
      "Test Case: check password\n",
      "----------------------------------------------------------------------------------------------------\n",
      "Predicted: [('java', 'javascript', 'python')]\n",
      "Ground Truth: [('python',)]\n",
      "\n",
      "\n",
      "Test Case: input responding mouse events wouldisabled attribute\n",
      "----------------------------------------------------------------------------------------------------\n",
      "Predicted: [('css', 'html', 'java', 'javascript', 'jquery', 'python')]\n",
      "Ground Truth: [('button', 'javascript', 'jquery')]\n",
      "\n",
      "\n",
      "Test Case: firebase updateprofile return user promise\n",
      "----------------------------------------------------------------------------------------------------\n",
      "Predicted: [('firebase', 'firebase-realtime-database', 'java', 'javascript', 'node.js', 'python')]\n",
      "Ground Truth: [('firebase', 'javascript')]\n",
      "\n",
      "\n"
     ]
    }
   ],
   "source": [
    "test_idx = np.random.randint(len(X_test), size=5)\n",
    "\n",
    "for idx in test_idx:\n",
    "    test_case = idx\n",
    "    print('Test Case: ' + str(X_test[test_case]))\n",
    "    print('-'*100)\n",
    "    print('Predicted: ' + str(predict_tags(X_test[test_case])))\n",
    "    print('Ground Truth: ' + str(tag_encoder.inverse_transform(np.array([y_test[test_case]]))))\n",
    "    print('\\n')"
   ]
  },
  {
   "cell_type": "code",
   "execution_count": null,
   "metadata": {
    "colab": {},
    "colab_type": "code",
    "id": "FmbAqKvSuHwp"
   },
   "outputs": [],
   "source": [
    "import re\n",
    "from bs4 import BeautifulSoup\n",
    "\n",
    "def removeCode(text):\n",
    "    soup = BeautifulSoup(text, 'lxml')\n",
    "    for code in soup(\"code\"):\n",
    "        code.decompose()    \n",
    "    \n",
    "    return soup.get_text()\n",
    "\n",
    "def removeHtmlTags(text):\n",
    "        text=text.lower()\n",
    "        return re.sub('<[^<]+?>', ' ', str(text))\n",
    "\n",
    "def removeLinks(text):\n",
    "    return re.sub('http[s]?://(?:[a-zA-Z]|[0-9]|[$-_@.&+]|[!*\\(\\),]|(?:%[0-9a-fA-F][0-9a-fA-F]))+', ' ', str(text))\n",
    "\n",
    "def cleanEscseq(text):\n",
    "  \n",
    "    text=re.sub('\\n', ' ', str(text))\n",
    "    text=re.sub('\\r', ' ', str(text))\n",
    "    return text\n",
    "\n",
    "def decontracted(text):\n",
    "    # specific\n",
    "    text = re.sub(r\"won't\", \"will not\", text)\n",
    "    text = re.sub(r\"can\\'t\", \"can not\", text)\n",
    "\n",
    "    # general\n",
    "    text = re.sub(r\"n\\'t\", \" not\", text)\n",
    "    text = re.sub(r\"\\'re\", \" are\", text)\n",
    "    text = re.sub(r\"\\'s\", \" is\", text)\n",
    "    text = re.sub(r\"\\'d\", \" would\", text)\n",
    "    text = re.sub(r\"\\'ll\", \" will\", text)\n",
    "    text = re.sub(r\"\\'t\", \" not\", text)\n",
    "    text = re.sub(r\"\\'ve\", \" have\", text)\n",
    "    text = re.sub(r\"\\'m\", \" am\", text)\n",
    "    return text\n",
    "\n",
    "def cleanpunc(text): #function to clean the word of any punctuation or special characters\n",
    "    cleaned = re.sub(r'[?|!|\"|#|:|=|+|_|{|}|[|]|-|$|%|^|&|]',r'',text)\n",
    "    cleaned = re.sub(r'[.|,|)|(|\\|/|-|~|`|>|<|*|$|@|;|→]',r'',cleaned)\n",
    "    return  cleaned\n",
    "\n",
    "def normalize(text):\n",
    "    text=removeCode(text)\n",
    "    text=removeHtmlTags(text)\n",
    "    text=removeLinks(text)\n",
    "    text=cleanEscseq(text)\n",
    "    text=decontracted(text)\n",
    "    text=cleanpunc(text)\n",
    "    return text"
   ]
  },
  {
   "cell_type": "markdown",
   "metadata": {},
   "source": [
    "Here we calculate the similar results based on the cosine distance,  the subjective polarity score to find the top 5 posts related "
   ]
  },
  {
   "cell_type": "code",
   "execution_count": null,
   "metadata": {
    "colab": {
     "base_uri": "https://localhost:8080/",
     "height": 897
    },
    "colab_type": "code",
    "id": "YOBDmwN8ozA1",
    "outputId": "dd07c617-9e7e-4292-8325-dea488f2890f",
    "scrolled": false
   },
   "outputs": [
    {
     "name": "stderr",
     "output_type": "stream",
     "text": [
      "/usr/local/lib/python3.6/dist-packages/ipykernel_launcher.py:5: DeprecationWarning: Call to deprecated `__contains__` (Method will be removed in 4.0.0, use self.wv.__contains__() instead).\n",
      "  \"\"\"\n",
      "/usr/local/lib/python3.6/dist-packages/ipykernel_launcher.py:7: DeprecationWarning: Call to deprecated `__getitem__` (Method will be removed in 4.0.0, use self.wv.__getitem__() instead).\n",
      "  import sys\n"
     ]
    },
    {
     "data": {
      "text/html": [
       "<h3>Results:</h3><a target=\"_blank\" href=https://stackoverflow.com/questions/61618118><h2>pandas apply rename filtered subset dataframe</h2></a><h3> Similarity Score: 0.9364900131438846</h3><h3> Stackover Votes: 0</h3><hr><a target=\"_blank\" href=https://stackoverflow.com/questions/52881426><h2>python pandas create column based function requiring filter dataframe</h2></a><h3> Similarity Score: 0.917997853915899</h3><h3> Stackover Votes: 4</h3><hr><a target=\"_blank\" href=https://stackoverflow.com/questions/45597499><h2>filter pandas dataframe comparing columns</h2></a><h3> Similarity Score: 0.9179570507634385</h3><h3> Stackover Votes: 8</h3><hr><a target=\"_blank\" href=https://stackoverflow.com/questions/59069909><h2>pandas dataframe filtering keeping consecutive elements column</h2></a><h3> Similarity Score: 0.8907997853915899</h3><h3> Stackover Votes: 3</h3><hr><a target=\"_blank\" href=https://stackoverflow.com/questions/34377811><h2>build standalone composeable atomic filter functions databasepandas dataframe</h2></a><h3> Similarity Score: 0.8816895006567409</h3><h3> Stackover Votes: 0</h3><hr>"
      ],
      "text/plain": [
       "<IPython.core.display.HTML object>"
      ]
     },
     "metadata": {
      "tags": []
     },
     "output_type": "display_data"
    }
   ],
   "source": [
    "from IPython.display import HTML\n",
    "import logging\n",
    "from sklearn.metrics.pairwise import cosine_similarity\n",
    "\n",
    "search_string = \"pandas filter dataframe by column value\" \n",
    "search_string = ' '.join(normalize(search_string))\n",
    "results_returned = \"5\" \n",
    "search_vect = np.array([question_to_vec(search_string, w2v_model)])    # Vectorize the user query\n",
    "\n",
    "# Calculate Cosine similarites for the query and all titles\n",
    "cosine_similarities = pd.Series(cosine_similarity(search_vect, all_title_embeddings)[0])\n",
    "\n",
    "# Custom Similarity Measure\n",
    "cosine_similarities = cosine_similarities*(1 + 0.4*df.Total_scores + 0.1*(df.sentiment_subjectivity))\n",
    "\n",
    "output =\"\"\n",
    "for i,j in cosine_similarities.nlargest(int(results_returned)).iteritems():\n",
    "    output += '<a target=\"_blank\" href=https://stackoverflow.com/questions/'+ str(df.Id[i])+'><h2>' + df.Title[i] + '</h2></a>'\n",
    "    output += '<h3> Similarity Score: ' + str(j) + '</h3>'\n",
    "    output += '<h3> Stackover Votes: ' + str(df.Total_scores[i]) + '</h3>'\n",
    "    output +='<p style=\"font-family:verdana; font-size:110%;\"> '\n",
    "    output += \"<hr>\"\n",
    "    \n",
    "output = '<h3>Results:</h3>'+output\n",
    "display(HTML(output))"
   ]
  }
 ],
 "metadata": {
  "colab": {
   "name": "Untitled14.ipynb",
   "provenance": []
  },
  "kernelspec": {
   "display_name": "Python 3",
   "language": "python",
   "name": "python3"
  },
  "language_info": {
   "codemirror_mode": {
    "name": "ipython",
    "version": 3
   },
   "file_extension": ".py",
   "mimetype": "text/x-python",
   "name": "python",
   "nbconvert_exporter": "python",
   "pygments_lexer": "ipython3",
   "version": "3.7.1"
  }
 },
 "nbformat": 4,
 "nbformat_minor": 1
}
